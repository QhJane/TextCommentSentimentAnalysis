{
 "cells": [
  {
   "cell_type": "code",
   "execution_count": 1,
   "metadata": {},
   "outputs": [
    {
     "name": "stderr",
     "output_type": "stream",
     "text": [
      "C:\\SoftWare\\Anaconda3\\envs\\tensorflow\\lib\\site-packages\\gensim\\utils.py:1197: UserWarning: detected Windows; aliasing chunkize to chunkize_serial\n",
      "  warnings.warn(\"detected Windows; aliasing chunkize to chunkize_serial\")\n"
     ]
    }
   ],
   "source": [
    "# -*- coding:utf-8 -*-\n",
    "# 首先加载必用的库\n",
    "import tensorflow as tf\n",
    "import numpy as np\n",
    "# import gensim  用来加载预训练word vector\n",
    "from gensim.models import KeyedVectors\n",
    "import jieba\n",
    "import matplotlib.pyplot as plt\n",
    "import re\n",
    "import warnings\n",
    "warnings.filterwarnings(\"ignore\")"
   ]
  },
  {
   "cell_type": "code",
   "execution_count": 2,
   "metadata": {},
   "outputs": [
    {
     "name": "stderr",
     "output_type": "stream",
     "text": [
      "WARNING: Logging before flag parsing goes to stderr.\n",
      "W0708 12:20:02.721931  7060 utils_any2vec.py:185] duplicate word '--------------------------------------------------------------------------------------------------' in ../embeddings/sgns.zhihu.bigram, ignoring all but first\n",
      "W0708 12:20:05.682164  7060 utils_any2vec.py:185] duplicate word '--------------------------------------------------------------------------------------------------' in ../embeddings/sgns.zhihu.bigram, ignoring all but first\n",
      "W0708 12:20:11.631563  7060 utils_any2vec.py:185] duplicate word '--------------------------------------------------------------------------------------------------' in ../embeddings/sgns.zhihu.bigram, ignoring all but first\n",
      "W0708 12:20:15.867930  7060 utils_any2vec.py:185] duplicate word '--------------------------------------------------------------------------------------------------' in ../embeddings/sgns.zhihu.bigram, ignoring all but first\n",
      "W0708 12:20:17.276091  7060 utils_any2vec.py:185] duplicate word '--------------------------------------------------------------------------------------------------' in ../embeddings/sgns.zhihu.bigram, ignoring all but first\n",
      "W0708 12:20:17.751823  7060 utils_any2vec.py:185] duplicate word '--------------------------------------------------------------------------------------------------' in ../embeddings/sgns.zhihu.bigram, ignoring all but first\n",
      "W0708 12:20:18.163806  7060 utils_any2vec.py:185] duplicate word '--------------------------------------------------------------------------------------------------' in ../embeddings/sgns.zhihu.bigram, ignoring all but first\n",
      "W0708 12:20:18.195078  7060 utils_any2vec.py:185] duplicate word '--------------------------------------------------------------------------------------------------' in ../embeddings/sgns.zhihu.bigram, ignoring all but first\n",
      "W0708 12:20:19.192272  7060 utils_any2vec.py:185] duplicate word '--------------------------------------------------------------------------------------------------' in ../embeddings/sgns.zhihu.bigram, ignoring all but first\n",
      "W0708 12:20:19.313145  7060 utils_any2vec.py:185] duplicate word '--------------------------------------------------------------------------------------------------' in ../embeddings/sgns.zhihu.bigram, ignoring all but first\n",
      "W0708 12:20:20.038809  7060 utils_any2vec.py:185] duplicate word '--------------------------------------------------------------------------------------------------' in ../embeddings/sgns.zhihu.bigram, ignoring all but first\n",
      "W0708 12:20:20.182708  7060 utils_any2vec.py:185] duplicate word '--------------------------------------------------------------------------------------------------' in ../embeddings/sgns.zhihu.bigram, ignoring all but first\n",
      "W0708 12:20:20.198330  7060 utils_any2vec.py:185] duplicate word '--------------------------------------------------------------------------------------------------' in ../embeddings/sgns.zhihu.bigram, ignoring all but first\n",
      "W0708 12:20:20.684089  7060 utils_any2vec.py:185] duplicate word '--------------------------------------------------------------------------------------------------' in ../embeddings/sgns.zhihu.bigram, ignoring all but first\n",
      "W0708 12:20:20.972956  7060 utils_any2vec.py:185] duplicate word '--------------------------------------------------------------------------------------------------' in ../embeddings/sgns.zhihu.bigram, ignoring all but first\n",
      "W0708 12:20:20.980594  7060 utils_any2vec.py:185] duplicate word '--------------------------------------------------------------------------------------------------' in ../embeddings/sgns.zhihu.bigram, ignoring all but first\n",
      "W0708 12:20:21.034449  7060 utils_any2vec.py:185] duplicate word '--------------------------------------------------------------------------------------------------' in ../embeddings/sgns.zhihu.bigram, ignoring all but first\n",
      "W0708 12:20:21.074343  7060 utils_any2vec.py:185] duplicate word '--------------------------------------------------------------------------------------------------' in ../embeddings/sgns.zhihu.bigram, ignoring all but first\n",
      "W0708 12:20:21.111248  7060 utils_any2vec.py:185] duplicate word '--------------------------------------------------------------------------------------------------' in ../embeddings/sgns.zhihu.bigram, ignoring all but first\n",
      "W0708 12:20:21.185043  7060 utils_any2vec.py:185] duplicate word '--------------------------------------------------------------------------------------------------' in ../embeddings/sgns.zhihu.bigram, ignoring all but first\n",
      "W0708 12:20:21.200700  7060 utils_any2vec.py:185] duplicate word '--------------------------------------------------------------------------------------------------' in ../embeddings/sgns.zhihu.bigram, ignoring all but first\n",
      "W0708 12:20:21.216288  7060 utils_any2vec.py:185] duplicate word '--------------------------------------------------------------------------------------------------' in ../embeddings/sgns.zhihu.bigram, ignoring all but first\n",
      "W0708 12:20:21.239071  7060 utils_any2vec.py:185] duplicate word '--------------------------------------------------------------------------------------------------' in ../embeddings/sgns.zhihu.bigram, ignoring all but first\n",
      "W0708 12:20:21.289962  7060 utils_any2vec.py:185] duplicate word '--------------------------------------------------------------------------------------------------' in ../embeddings/sgns.zhihu.bigram, ignoring all but first\n",
      "W0708 12:20:21.298876  7060 utils_any2vec.py:185] duplicate word '--------------------------------------------------------------------------------------------------' in ../embeddings/sgns.zhihu.bigram, ignoring all but first\n",
      "W0708 12:20:21.349776  7060 utils_any2vec.py:185] duplicate word '--------------------------------------------------------------------------------------------------' in ../embeddings/sgns.zhihu.bigram, ignoring all but first\n",
      "W0708 12:20:21.368758  7060 utils_any2vec.py:185] duplicate word '--------------------------------------------------------------------------------------------------' in ../embeddings/sgns.zhihu.bigram, ignoring all but first\n",
      "W0708 12:20:21.368758  7060 utils_any2vec.py:185] duplicate word '--------------------------------------------------------------------------------------------------' in ../embeddings/sgns.zhihu.bigram, ignoring all but first\n",
      "W0708 12:20:21.401068  7060 utils_any2vec.py:185] duplicate word '--------------------------------------------------------------------------------------------------' in ../embeddings/sgns.zhihu.bigram, ignoring all but first\n",
      "W0708 12:20:21.409081  7060 utils_any2vec.py:185] duplicate word '--------------------------------------------------------------------------------------------------' in ../embeddings/sgns.zhihu.bigram, ignoring all but first\n",
      "W0708 12:20:21.435008  7060 utils_any2vec.py:185] duplicate word '--------------------------------------------------------------------------------------------------' in ../embeddings/sgns.zhihu.bigram, ignoring all but first\n",
      "W0708 12:20:21.450630  7060 utils_any2vec.py:185] duplicate word '--------------------------------------------------------------------------------------------------' in ../embeddings/sgns.zhihu.bigram, ignoring all but first\n",
      "W0708 12:20:21.450630  7060 utils_any2vec.py:185] duplicate word '--------------------------------------------------------------------------------------------------' in ../embeddings/sgns.zhihu.bigram, ignoring all but first\n",
      "W0708 12:20:21.450630  7060 utils_any2vec.py:185] duplicate word '--------------------------------------------------------------------------------------------------' in ../embeddings/sgns.zhihu.bigram, ignoring all but first\n",
      "W0708 12:20:21.450630  7060 utils_any2vec.py:185] duplicate word '--------------------------------------------------------------------------------------------------' in ../embeddings/sgns.zhihu.bigram, ignoring all but first\n",
      "W0708 12:20:21.450630  7060 utils_any2vec.py:185] duplicate word '--------------------------------------------------------------------------------------------------' in ../embeddings/sgns.zhihu.bigram, ignoring all but first\n",
      "W0708 12:20:21.466251  7060 utils_any2vec.py:185] duplicate word '--------------------------------------------------------------------------------------------------' in ../embeddings/sgns.zhihu.bigram, ignoring all but first\n"
     ]
    },
    {
     "name": "stderr",
     "output_type": "stream",
     "text": [
      "W0708 12:20:21.466251  7060 utils_any2vec.py:185] duplicate word '--------------------------------------------------------------------------------------------------' in ../embeddings/sgns.zhihu.bigram, ignoring all but first\n",
      "W0708 12:20:21.466251  7060 utils_any2vec.py:185] duplicate word '..................................................................................................' in ../embeddings/sgns.zhihu.bigram, ignoring all but first\n",
      "W0708 12:20:21.466251  7060 utils_any2vec.py:185] duplicate word '--------------------------------------------------------------------------------------------------' in ../embeddings/sgns.zhihu.bigram, ignoring all but first\n",
      "W0708 12:20:21.481873  7060 utils_any2vec.py:185] duplicate word '..................................................................................................' in ../embeddings/sgns.zhihu.bigram, ignoring all but first\n",
      "W0708 12:20:21.481873  7060 utils_any2vec.py:185] duplicate word '--------------------------------------------------------------------------------------------------' in ../embeddings/sgns.zhihu.bigram, ignoring all but first\n",
      "W0708 12:20:21.500180  7060 utils_any2vec.py:185] duplicate word '--------------------------------------------------------------------------------------------------' in ../embeddings/sgns.zhihu.bigram, ignoring all but first\n",
      "W0708 12:20:21.501211  7060 utils_any2vec.py:185] duplicate word '--------------------------------------------------------------------------------------------------' in ../embeddings/sgns.zhihu.bigram, ignoring all but first\n",
      "W0708 12:20:21.505167  7060 utils_any2vec.py:185] duplicate word '--------------------------------------------------------------------------------------------------' in ../embeddings/sgns.zhihu.bigram, ignoring all but first\n",
      "W0708 12:20:21.507196  7060 utils_any2vec.py:185] duplicate word '--------------------------------------------------------------------------------------------------' in ../embeddings/sgns.zhihu.bigram, ignoring all but first\n",
      "W0708 12:20:21.513178  7060 utils_any2vec.py:185] duplicate word '--------------------------------------------------------------------------------------------------' in ../embeddings/sgns.zhihu.bigram, ignoring all but first\n",
      "W0708 12:20:21.519129  7060 utils_any2vec.py:185] duplicate word '--------------------------------------------------------------------------------------------------' in ../embeddings/sgns.zhihu.bigram, ignoring all but first\n",
      "W0708 12:20:21.521127  7060 utils_any2vec.py:185] duplicate word '..................................................................................................' in ../embeddings/sgns.zhihu.bigram, ignoring all but first\n",
      "W0708 12:20:21.524117  7060 utils_any2vec.py:185] duplicate word '..................................................................................................' in ../embeddings/sgns.zhihu.bigram, ignoring all but first\n",
      "W0708 12:20:21.530099  7060 utils_any2vec.py:185] duplicate word '--------------------------------------------------------------------------------------------------' in ../embeddings/sgns.zhihu.bigram, ignoring all but first\n",
      "W0708 12:20:21.531097  7060 utils_any2vec.py:185] duplicate word '--------------------------------------------------------------------------------------------------' in ../embeddings/sgns.zhihu.bigram, ignoring all but first\n",
      "W0708 12:20:21.534124  7060 utils_any2vec.py:185] duplicate word '..................................................................................................' in ../embeddings/sgns.zhihu.bigram, ignoring all but first\n"
     ]
    }
   ],
   "source": [
    "# 使用gensim加载预训练中文分词embedding, 有可能需要等待1-2分钟\n",
    "cn_model = KeyedVectors.load_word2vec_format('../embeddings/sgns.zhihu.bigram',binary=False, unicode_errors=\"ignore\")"
   ]
  },
  {
   "cell_type": "code",
   "execution_count": 3,
   "metadata": {},
   "outputs": [
    {
     "data": {
      "text/plain": [
       "300"
      ]
     },
     "execution_count": 3,
     "metadata": {},
     "output_type": "execute_result"
    }
   ],
   "source": [
    "# 由此可见每一个词都对应一个长度为300的向量\n",
    "embedding_dim = cn_model['山东大学'].shape[0]\n",
    "embedding_dim"
   ]
  },
  {
   "cell_type": "code",
   "execution_count": 4,
   "metadata": {},
   "outputs": [
    {
     "name": "stdout",
     "output_type": "stream",
     "text": [
      "样本总数：7909\n"
     ]
    }
   ],
   "source": [
    "# 获得样本的索引\n",
    "import pandas as pd\n",
    "\n",
    "data_neg = pd.read_excel('../data/neg.xlsx')\n",
    "data_pos = pd.read_excel('../data/pos.xls')\n",
    "\n",
    "print('样本总数：'+str(len(data_pos) + len(data_neg)))"
   ]
  },
  {
   "cell_type": "code",
   "execution_count": 5,
   "metadata": {
    "scrolled": true
   },
   "outputs": [
    {
     "data": {
      "text/html": [
       "<div>\n",
       "<style scoped>\n",
       "    .dataframe tbody tr th:only-of-type {\n",
       "        vertical-align: middle;\n",
       "    }\n",
       "\n",
       "    .dataframe tbody tr th {\n",
       "        vertical-align: top;\n",
       "    }\n",
       "\n",
       "    .dataframe thead th {\n",
       "        text-align: right;\n",
       "    }\n",
       "</style>\n",
       "<table border=\"1\" class=\"dataframe\">\n",
       "  <thead>\n",
       "    <tr style=\"text-align: right;\">\n",
       "      <th></th>\n",
       "      <th>做父母一定要有刘墉这样的心态，不断地学习，不断地进步，不断地给自己补充新鲜血液，让自己保持一颗年轻的心。我想，这是他能很好的和孩子沟通的一个重要因素。读刘墉的文章，总能让我看到一个快乐的平易近人的父亲，他始终站在和孩子同样的高度，给孩子创造着一个充满爱和自由的生活环境。很喜欢刘墉在字里行间流露出的做父母的那种小狡黠，让人总是忍俊不禁，父母和子女之间有时候也是一种战斗，武力争斗过于低级了，智力较量才更有趣味。所以，做父母的得加把劲了，老思想老观念注定会一败涂地，生命不息，学习不止。家庭教育，真的是乐在其中。</th>\n",
       "    </tr>\n",
       "  </thead>\n",
       "  <tbody>\n",
       "    <tr>\n",
       "      <th>0</th>\n",
       "      <td>作者真有英国人严谨的风格，提出观点、进行论述论证，尽管本人对物理学了解不深，但是仍然能感受到...</td>\n",
       "    </tr>\n",
       "  </tbody>\n",
       "</table>\n",
       "</div>"
      ],
      "text/plain": [
       "  做父母一定要有刘墉这样的心态，不断地学习，不断地进步，不断地给自己补充新鲜血液，让自己保持一颗年轻的心。我想，这是他能很好的和孩子沟通的一个重要因素。读刘墉的文章，总能让我看到一个快乐的平易近人的父亲，他始终站在和孩子同样的高度，给孩子创造着一个充满爱和自由的生活环境。很喜欢刘墉在字里行间流露出的做父母的那种小狡黠，让人总是忍俊不禁，父母和子女之间有时候也是一种战斗，武力争斗过于低级了，智力较量才更有趣味。所以，做父母的得加把劲了，老思想老观念注定会一败涂地，生命不息，学习不止。家庭教育，真的是乐在其中。\n",
       "0  作者真有英国人严谨的风格，提出观点、进行论述论证，尽管本人对物理学了解不深，但是仍然能感受到...                                                                                                                                                                                                             "
      ]
     },
     "execution_count": 5,
     "metadata": {},
     "output_type": "execute_result"
    }
   ],
   "source": [
    "data_pos.head(1)"
   ]
  },
  {
   "cell_type": "code",
   "execution_count": 6,
   "metadata": {},
   "outputs": [],
   "source": [
    "# 将所有的评价内容放置到一个list里\n",
    "train_texts_orig = []\n",
    "# 文本所对应的labels，也就是标记\n",
    "train_target = []\n",
    "\n",
    "for indexs in data_neg.index:\n",
    "    train_texts_orig.append(data_neg.loc[indexs].values[1])\n",
    "    train_target.append(data_neg.loc[indexs].values[0])"
   ]
  },
  {
   "cell_type": "code",
   "execution_count": 7,
   "metadata": {
    "scrolled": false
   },
   "outputs": [
    {
     "name": "stdout",
     "output_type": "stream",
     "text": [
      "3825\n"
     ]
    },
    {
     "data": {
      "text/plain": [
       "'明明在携程上用信用卡担保定了房，入住时居然前台说没有此信息，而且房间已经住满了，打电话到携程投诉，说是酒店预订部与前台没沟通好，折腾了半天，非常气人!'"
      ]
     },
     "execution_count": 7,
     "metadata": {},
     "output_type": "execute_result"
    }
   ],
   "source": [
    "print(len(train_texts_orig))\n",
    "# print(train_target)\n",
    "train_texts_orig[3824]"
   ]
  },
  {
   "cell_type": "code",
   "execution_count": 8,
   "metadata": {},
   "outputs": [],
   "source": [
    "for indexs in data_pos.index:\n",
    "    train_texts_orig.append(data_pos.loc[indexs].values[0])\n",
    "    train_target.append(\"0\")"
   ]
  },
  {
   "cell_type": "code",
   "execution_count": 9,
   "metadata": {},
   "outputs": [
    {
     "name": "stdout",
     "output_type": "stream",
     "text": [
      "7909\n"
     ]
    },
    {
     "data": {
      "text/plain": [
       "'最真实与实用的白领成长故事，也是目前为止我所读过的最深刻的白领生活工作的总结。看了不但受益匪浅，而且觉得过瘾、振奋，为中国有这样优秀的打工人而自豪。看了确实有：“...让我回忆最多的，却不是人生旅途里这些成功的瞬间，而是那些刻骨铭心的失败或挫折...”它展示地是一个真实与真诚的人，一个真心与你分享如何才能成功，而不是一个天才的故事、打工的神仙。强烈推荐！'"
      ]
     },
     "execution_count": 9,
     "metadata": {},
     "output_type": "execute_result"
    }
   ],
   "source": [
    "print(len(train_texts_orig))\n",
    "# print(train_target)\n",
    "train_texts_orig[3856]"
   ]
  },
  {
   "cell_type": "code",
   "execution_count": 10,
   "metadata": {},
   "outputs": [],
   "source": [
    "# 使用tensorflow的keras接口来建模\n",
    "from tensorflow.python.keras.models import Sequential\n",
    "from tensorflow.python.keras.layers import Dense, GRU, Embedding, LSTM, Bidirectional\n",
    "from tensorflow.python.keras.preprocessing.text import Tokenizer\n",
    "from tensorflow.python.keras.preprocessing.sequence import pad_sequences\n",
    "from tensorflow.python.keras.optimizers import RMSprop\n",
    "from tensorflow.python.keras.optimizers import Adam\n",
    "from tensorflow.python.keras.callbacks import EarlyStopping, ModelCheckpoint, TensorBoard, ReduceLROnPlateau"
   ]
  },
  {
   "cell_type": "code",
   "execution_count": 11,
   "metadata": {},
   "outputs": [
    {
     "name": "stderr",
     "output_type": "stream",
     "text": [
      "Building prefix dict from the default dictionary ...\n",
      "I0708 12:20:23.766945  7060 __init__.py:111] Building prefix dict from the default dictionary ...\n",
      "Loading model from cache F:\\AppData\\summer\\Temp\\jieba.cache\n",
      "I0708 12:20:23.769938  7060 __init__.py:131] Loading model from cache F:\\AppData\\summer\\Temp\\jieba.cache\n",
      "Loading model cost 0.856 seconds.\n",
      "I0708 12:20:24.624858  7060 __init__.py:163] Loading model cost 0.856 seconds.\n",
      "Prefix dict has been built succesfully.\n",
      "I0708 12:20:24.625855  7060 __init__.py:164] Prefix dict has been built succesfully.\n"
     ]
    }
   ],
   "source": [
    "# 进行分词和tokenize\n",
    "# train_tokens是一个长长的list，其中含有7909个小list，对应每一条评价\n",
    "train_tokens = []\n",
    "for text in train_texts_orig:\n",
    "    # 去掉标点\n",
    "    text = re.sub(\"[\\s+\\.\\!\\/_,$%^*(+\\\"\\']+|[+——！，。？、~@#￥%……&*（） ]+\", \"\",text)\n",
    "    # 结巴分词\n",
    "    cut = jieba.cut(text)\n",
    "    # 结巴分词的输出结果为一个生成器\n",
    "    # 把生成器转换为list\n",
    "    cut_list = [ i for i in cut ]\n",
    "    for i, word in enumerate(cut_list):\n",
    "        try:\n",
    "            # 将词转换为索引index\n",
    "            cut_list[i] = cn_model.vocab[word].index\n",
    "        except KeyError:\n",
    "            # 如果词不在字典中，则输出0\n",
    "            cut_list[i] = 0\n",
    "    train_tokens.append(cut_list)"
   ]
  },
  {
   "cell_type": "code",
   "execution_count": 12,
   "metadata": {},
   "outputs": [
    {
     "name": "stdout",
     "output_type": "stream",
     "text": [
      "num_tokens: [76 34 33 ... 39 16 19]\n",
      "7909\n"
     ]
    }
   ],
   "source": [
    "# 获得所有tokens的长度\n",
    "num_tokens = [ len(tokens) for tokens in train_tokens ]\n",
    "num_tokens = np.array(num_tokens)\n",
    "print(\"num_tokens:\",num_tokens)\n",
    "# print(train_tokens)\n",
    "len(train_tokens)\n",
    "print(len(num_tokens))"
   ]
  },
  {
   "cell_type": "code",
   "execution_count": 13,
   "metadata": {},
   "outputs": [
    {
     "name": "stdout",
     "output_type": "stream",
     "text": [
      "70.6515362245543\n"
     ]
    }
   ],
   "source": [
    "# 平均tokens的长度\n",
    "print(np.mean(num_tokens))"
   ]
  },
  {
   "cell_type": "code",
   "execution_count": 14,
   "metadata": {},
   "outputs": [
    {
     "name": "stdout",
     "output_type": "stream",
     "text": [
      "1540\n"
     ]
    }
   ],
   "source": [
    "# 最长的评价tokens的长度\n",
    "print(np.max(num_tokens))"
   ]
  },
  {
   "cell_type": "code",
   "execution_count": 15,
   "metadata": {},
   "outputs": [
    {
     "data": {
      "image/png": "[encoded data removed]",
      "text/plain": [
       "<Figure size 432x288 with 1 Axes>"
      ]
     },
     "metadata": {
      "needs_background": "light"
     },
     "output_type": "display_data"
    }
   ],
   "source": [
    "plt.hist(np.log(num_tokens), bins = 100)\n",
    "plt.xlim((0,10))\n",
    "plt.ylabel('number of tokens')\n",
    "plt.xlabel('length of tokens')\n",
    "plt.title('Distribution of tokens length')\n",
    "plt.show()"
   ]
  },
  {
   "cell_type": "code",
   "execution_count": 16,
   "metadata": {},
   "outputs": [
    {
     "data": {
      "text/plain": [
       "223"
      ]
     },
     "execution_count": 16,
     "metadata": {},
     "output_type": "execute_result"
    }
   ],
   "source": [
    "# 取tokens平均值并加上两个tokens的标准差，\n",
    "# 假设tokens长度的分布为正态分布，则max_tokens这个值可以涵盖95%左右的样本\n",
    "max_tokens = np.mean(num_tokens) + 2 * np.std(num_tokens)\n",
    "max_tokens = int(max_tokens)\n",
    "max_tokens"
   ]
  },
  {
   "cell_type": "code",
   "execution_count": 17,
   "metadata": {},
   "outputs": [
    {
     "data": {
      "text/plain": [
       "0.9675053736249842"
      ]
     },
     "execution_count": 17,
     "metadata": {},
     "output_type": "execute_result"
    }
   ],
   "source": [
    "# 取tokens的长度为223时，大约96%的样本被涵盖\n",
    "# 我们对长度不足的进行padding，超长的进行修剪\n",
    "np.sum( num_tokens < max_tokens ) / len(num_tokens)"
   ]
  },
  {
   "cell_type": "code",
   "execution_count": 18,
   "metadata": {},
   "outputs": [],
   "source": [
    "# 用来将tokens转换为文本\n",
    "def reverse_tokens(tokens):\n",
    "    text = ''\n",
    "    for i in tokens:\n",
    "        if i != 0:\n",
    "            text = text + cn_model.index2word[i]\n",
    "        else:\n",
    "            text = text + ' '\n",
    "    return text"
   ]
  },
  {
   "cell_type": "code",
   "execution_count": 19,
   "metadata": {},
   "outputs": [
    {
     "data": {
      "text/plain": [
       "'再'"
      ]
     },
     "execution_count": 19,
     "metadata": {},
     "output_type": "execute_result"
    }
   ],
   "source": [
    "cn_model.index2word[120]"
   ]
  },
  {
   "cell_type": "code",
   "execution_count": 20,
   "metadata": {
    "scrolled": true
   },
   "outputs": [
    {
     "data": {
      "text/plain": [
       "[59,\n",
       " 69,\n",
       " 0,\n",
       " 154664,\n",
       " 1,\n",
       " 2010,\n",
       " 473,\n",
       " 16,\n",
       " 1,\n",
       " 57,\n",
       " 2537,\n",
       " 1,\n",
       " 11119,\n",
       " 649,\n",
       " 1305,\n",
       " 144,\n",
       " 5,\n",
       " 6,\n",
       " 1,\n",
       " 19945,\n",
       " 869,\n",
       " 90,\n",
       " 86,\n",
       " 197235,\n",
       " 126,\n",
       " 155,\n",
       " 39283,\n",
       " 22,\n",
       " 18,\n",
       " 711,\n",
       " 3,\n",
       " 40,\n",
       " 155,\n",
       " 574,\n",
       " 1,\n",
       " 87,\n",
       " 1946,\n",
       " 8,\n",
       " 34,\n",
       " 655,\n",
       " 1,\n",
       " 644,\n",
       " 4253,\n",
       " 18,\n",
       " 38,\n",
       " 16,\n",
       " 143,\n",
       " 13176,\n",
       " 78,\n",
       " 49,\n",
       " 0,\n",
       " 51,\n",
       " 27,\n",
       " 135,\n",
       " 29865,\n",
       " 391,\n",
       " 18,\n",
       " 711,\n",
       " 3,\n",
       " 91,\n",
       " 51,\n",
       " 202,\n",
       " 39,\n",
       " 11119,\n",
       " 4862,\n",
       " 122,\n",
       " 62,\n",
       " 441,\n",
       " 1,\n",
       " 188009,\n",
       " 691,\n",
       " 613,\n",
       " 4,\n",
       " 374,\n",
       " 7294,\n",
       " 79]"
      ]
     },
     "execution_count": 20,
     "metadata": {},
     "output_type": "execute_result"
    }
   ],
   "source": [
    "train_tokens[0]"
   ]
  },
  {
   "cell_type": "code",
   "execution_count": 21,
   "metadata": {},
   "outputs": [
    {
     "data": {
      "text/plain": [
       "'做为 声名在外的流行书说的还是广州的外企按道理应该和我的生存环境差不多啊但是一看之下才发现相去甚远这也就算了还发现其中的很多规则有很强的企业个性也就说只是个例而不是 给我们这些老油条看看也就算了如果给那些对外企向往或者想了解的freshman来看实在是容易误导他们'"
      ]
     },
     "execution_count": 21,
     "metadata": {},
     "output_type": "execute_result"
    }
   ],
   "source": [
    "reverse = reverse_tokens(train_tokens[0])\n",
    "reverse"
   ]
  },
  {
   "cell_type": "code",
   "execution_count": 22,
   "metadata": {},
   "outputs": [
    {
     "data": {
      "text/plain": [
       "array([[0., 0., 0., ..., 0., 0., 0.],\n",
       "       [0., 0., 0., ..., 0., 0., 0.],\n",
       "       [0., 0., 0., ..., 0., 0., 0.],\n",
       "       ...,\n",
       "       [0., 0., 0., ..., 0., 0., 0.],\n",
       "       [0., 0., 0., ..., 0., 0., 0.],\n",
       "       [0., 0., 0., ..., 0., 0., 0.]])"
      ]
     },
     "execution_count": 22,
     "metadata": {},
     "output_type": "execute_result"
    }
   ],
   "source": [
    "# 只使用前50000个词\n",
    "num_words = 100000\n",
    "# 初始化embedding_matrix，之后在keras上进行应用\n",
    "embedding_matrix = np.zeros((num_words, embedding_dim))\n",
    "embedding_matrix"
   ]
  },
  {
   "cell_type": "code",
   "execution_count": 23,
   "metadata": {},
   "outputs": [
    {
     "data": {
      "text/plain": [
       "array([[-0.801784, -0.16534 ,  0.030508, ...,  0.106525,  0.553436,\n",
       "         0.43665 ],\n",
       "       [-0.651747,  0.53597 ,  0.340271, ...,  0.805399,  0.104593,\n",
       "         0.193694],\n",
       "       [-0.412321,  0.228261,  0.207114, ...,  0.808777,  0.056751,\n",
       "         0.452374],\n",
       "       ...,\n",
       "       [ 0.399163, -0.361203, -0.155123, ..., -0.026335,  0.078385,\n",
       "         0.042472],\n",
       "       [-0.198514, -0.436683,  0.416873, ..., -0.104323,  0.072952,\n",
       "         0.390674],\n",
       "       [ 0.071814,  0.090673,  0.014804, ..., -0.278364, -0.241816,\n",
       "        -0.227115]], dtype=float32)"
      ]
     },
     "execution_count": 23,
     "metadata": {},
     "output_type": "execute_result"
    }
   ],
   "source": [
    "# embedding_matrix为一个 [num_words，embedding_dim] 的矩阵\n",
    "# 维度为 50000 * 300\n",
    "for i in range(num_words):\n",
    "    embedding_matrix[i,:] = cn_model[cn_model.index2word[i]]\n",
    "embedding_matrix = embedding_matrix.astype('float32')\n",
    "embedding_matrix"
   ]
  },
  {
   "cell_type": "code",
   "execution_count": 24,
   "metadata": {},
   "outputs": [
    {
     "data": {
      "text/plain": [
       "300"
      ]
     },
     "execution_count": 24,
     "metadata": {},
     "output_type": "execute_result"
    }
   ],
   "source": [
    "# 检查index是否对应，\n",
    "# 输出300意义为长度为300的embedding向量一一对应\n",
    "np.sum(cn_model[cn_model.index2word[30]] == embedding_matrix[30])"
   ]
  },
  {
   "cell_type": "code",
   "execution_count": 25,
   "metadata": {},
   "outputs": [
    {
     "name": "stdout",
     "output_type": "stream",
     "text": [
      "embedding_matrix.shape (100000, 300)\n"
     ]
    }
   ],
   "source": [
    "# embedding_matrix的维度，\n",
    "# 这个维度为keras的要求，后续会在模型中用到\n",
    "print(\"embedding_matrix.shape\", embedding_matrix.shape)"
   ]
  },
  {
   "cell_type": "code",
   "execution_count": 26,
   "metadata": {},
   "outputs": [
    {
     "data": {
      "text/plain": [
       "array([    0,     0,     0,     0,     0,     0,     0,     0,     0,\n",
       "           0,     0,     0,     0,     0,     0,     0,     0,     0,\n",
       "           0,     0,     0,     0,     0,     0,     0,     0,     0,\n",
       "           0,     0,     0,     0,     0,     0,     0,     0,     0,\n",
       "           0,     0,     0,     0,     0,     0,     0,     0,     0,\n",
       "           0,     0,     0,     0,     0,     0,     0,     0,     0,\n",
       "           0,     0,     0,     0,     0,     0,     0,     0,     0,\n",
       "           0,     0,     0,     0,     0,     0,     0,     0,     0,\n",
       "           0,     0,     0,     0,     0,     0,     0,     0,     0,\n",
       "           0,     0,     0,     0,     0,     0,     0,     0,     0,\n",
       "           0,     0,     0,     0,     0,     0,     0,     0,     0,\n",
       "           0,     0,     0,     0,     0,     0,     0,     0,     0,\n",
       "           0,     0,     0,     0,     0,     0,     0,     0,     0,\n",
       "           0,     0,     0,     0,     0,     0,     0,     0,     0,\n",
       "           0,     0,     0,     0,     0,     0,     0,     0,     0,\n",
       "           0,     0,     0,     0,     0,     0,     0,     0,     0,\n",
       "           0,     0,     0,     0,     0,     0,     0,     0,     0,\n",
       "           0,     0,     0,     0,     0,     0,     0,     0,     0,\n",
       "           0,     0,     0,     0,     0,     0,     0,     0,     0,\n",
       "           0,     0,     0,     0,     0,     0,     0,     0,     0,\n",
       "           0,     0,     0,     0,     0,     0,     0,     0, 18229,\n",
       "           1,   832,    18,   447,  1357,   421,  1148,  9827,     1,\n",
       "        8108,     1,    34,  8621,   203,    10,   779,     0,  1087,\n",
       "          86,  1357,    57,  4593,    86,  1704,    24,    96,  7737,\n",
       "           1, 13729,   112, 57734,    34,   369,   989])"
      ]
     },
     "execution_count": 26,
     "metadata": {},
     "output_type": "execute_result"
    }
   ],
   "source": [
    "# 进行padding和truncating， 输入的train_tokens是一个list\n",
    "# 返回的train_pad是一个numpy array\n",
    "train_pad = pad_sequences(train_tokens, maxlen=max_tokens, padding='pre', truncating='pre')\n",
    "train_pad[33]"
   ]
  },
  {
   "cell_type": "code",
   "execution_count": 27,
   "metadata": {},
   "outputs": [],
   "source": [
    "# 超出五万个词向量的词用0代替\n",
    "train_pad[train_pad >= num_words] = 0"
   ]
  },
  {
   "cell_type": "code",
   "execution_count": 28,
   "metadata": {},
   "outputs": [
    {
     "name": "stdout",
     "output_type": "stream",
     "text": [
      "train_pad[33] [    0     0     0     0     0     0     0     0     0     0     0     0\n",
      "     0     0     0     0     0     0     0     0     0     0     0     0\n",
      "     0     0     0     0     0     0     0     0     0     0     0     0\n",
      "     0     0     0     0     0     0     0     0     0     0     0     0\n",
      "     0     0     0     0     0     0     0     0     0     0     0     0\n",
      "     0     0     0     0     0     0     0     0     0     0     0     0\n",
      "     0     0     0     0     0     0     0     0     0     0     0     0\n",
      "     0     0     0     0     0     0     0     0     0     0     0     0\n",
      "     0     0     0     0     0     0     0     0     0     0     0     0\n",
      "     0     0     0     0     0     0     0     0     0     0     0     0\n",
      "     0     0     0     0     0     0     0     0     0     0     0     0\n",
      "     0     0     0     0     0     0     0     0     0     0     0     0\n",
      "     0     0     0     0     0     0     0     0     0     0     0     0\n",
      "     0     0     0     0     0     0     0     0     0     0     0     0\n",
      "     0     0     0     0     0     0     0     0     0     0     0     0\n",
      "     0     0     0     0     0     0     0     0 18229     1   832    18\n",
      "   447  1357   421  1148  9827     1  8108     1    34  8621   203    10\n",
      "   779     0  1087    86  1357    57  4593    86  1704    24    96  7737\n",
      "     1 13729   112 57734    34   369   989]\n"
     ]
    }
   ],
   "source": [
    "# 可见padding之后前面的tokens全变成0，文本在最后面\n",
    "print(\"train_pad[33]\", train_pad[33])"
   ]
  },
  {
   "cell_type": "code",
   "execution_count": 29,
   "metadata": {},
   "outputs": [
    {
     "data": {
      "text/plain": [
       "array(['1', '1', '1', ..., '0', '0', '0'], dtype='<U21')"
      ]
     },
     "execution_count": 29,
     "metadata": {},
     "output_type": "execute_result"
    }
   ],
   "source": [
    "# 准备target向量\n",
    "train_target = np.array(train_target)\n",
    "train_target"
   ]
  },
  {
   "cell_type": "code",
   "execution_count": 30,
   "metadata": {},
   "outputs": [],
   "source": [
    "# 进行训练和测试样本的分割\n",
    "from sklearn.model_selection import train_test_split"
   ]
  },
  {
   "cell_type": "code",
   "execution_count": 31,
   "metadata": {},
   "outputs": [],
   "source": [
    "from tensorflow.python.keras.utils import to_categorical\n",
    "\"\"\" one-hot处理标签 \"\"\"\n",
    "train_target = to_categorical(train_target)"
   ]
  },
  {
   "cell_type": "code",
   "execution_count": 32,
   "metadata": {},
   "outputs": [
    {
     "data": {
      "text/plain": [
       "(7909, 10)"
      ]
     },
     "execution_count": 32,
     "metadata": {},
     "output_type": "execute_result"
    }
   ],
   "source": [
    "train_target.shape"
   ]
  },
  {
   "cell_type": "code",
   "execution_count": 33,
   "metadata": {},
   "outputs": [],
   "source": [
    "# 90%的样本用来训练，剩余10%用来测试\n",
    "X_train, X_test, y_train, y_test = train_test_split(train_pad, train_target, test_size=0.1, random_state=1000)"
   ]
  },
  {
   "cell_type": "code",
   "execution_count": 34,
   "metadata": {},
   "outputs": [],
   "source": [
    "# def vectorize_sequences(squences, dimension=10):\n",
    "#     \"\"\"\n",
    "#     @函数功能:将序列向量化，初始化全0的序列，在单词索引对应的位置上置1\n",
    "#     \"\"\"\n",
    "#     resluts = np.zeros((len(squences), dimension))\n",
    "#     for i, sequence in enumerate(squences):\n",
    "#         resluts[i, sequence] = 1\n",
    "#     return resluts\n",
    "\n",
    "# X_train = vectorize_sequences(X_train)\n",
    "# X_test = vectorize_sequences(X_test)"
   ]
  },
  {
   "cell_type": "code",
   "execution_count": 35,
   "metadata": {},
   "outputs": [
    {
     "name": "stdout",
     "output_type": "stream",
     "text": [
      "                                                                                                                                                                                              很好的酒店很喜欢房间很干净很漂亮从房间的窗口看出去超美的在市中心区域出行也非常的方便有机会一定会再住的\n",
      "class:  [1. 0. 0. 0. 0. 0. 0. 0. 0. 0.]\n"
     ]
    }
   ],
   "source": [
    "# 查看训练样本，确认无误\n",
    "print(reverse_tokens(X_train[30]))\n",
    "print('class: ', y_train[30])"
   ]
  },
  {
   "cell_type": "code",
   "execution_count": 36,
   "metadata": {},
   "outputs": [],
   "source": [
    "# 用LSTM对样本进行分类\n",
    "model = Sequential()"
   ]
  },
  {
   "cell_type": "code",
   "execution_count": 37,
   "metadata": {
    "scrolled": false
   },
   "outputs": [
    {
     "name": "stderr",
     "output_type": "stream",
     "text": [
      "W0708 12:20:32.123103  7060 deprecation.py:506] From C:\\SoftWare\\Anaconda3\\envs\\tensorflow\\lib\\site-packages\\tensorflow\\python\\keras\\initializers.py:119: calling RandomUniform.__init__ (from tensorflow.python.ops.init_ops) with dtype is deprecated and will be removed in a future version.\n",
      "Instructions for updating:\n",
      "Call initializer instance with the dtype argument instead of passing it to the constructor\n",
      "W0708 12:20:32.640611  7060 deprecation.py:506] From C:\\SoftWare\\Anaconda3\\envs\\tensorflow\\lib\\site-packages\\tensorflow\\python\\ops\\init_ops.py:1251: calling VarianceScaling.__init__ (from tensorflow.python.ops.init_ops) with dtype is deprecated and will be removed in a future version.\n",
      "Instructions for updating:\n",
      "Call initializer instance with the dtype argument instead of passing it to the constructor\n"
     ]
    }
   ],
   "source": [
    "# 模型第一层为embedding\n",
    "model.add(Embedding(num_words, embedding_dim, weights=[embedding_matrix], input_length=max_tokens, trainable=False))\n",
    "\n",
    "# model.add(Bidirectional(LSTM(units=64, return_sequences=True)))\n",
    "# model.add(LSTM(units=16, return_sequences=False))\n",
    "model.add(LSTM(units=32, return_sequences=False))\n",
    "\n",
    "model.add(Dense(10, activation='softmax'))"
   ]
  },
  {
   "cell_type": "code",
   "execution_count": 38,
   "metadata": {},
   "outputs": [],
   "source": [
    "# 我们使用adam以0.001的learning rate进行优化\n",
    "optimizer = Adam(lr=1e-3)\n",
    "\n",
    "model.compile(loss='categorical_crossentropy', optimizer=optimizer,  metrics=['accuracy'])"
   ]
  },
  {
   "cell_type": "code",
   "execution_count": 39,
   "metadata": {
    "scrolled": true
   },
   "outputs": [
    {
     "name": "stdout",
     "output_type": "stream",
     "text": [
      "Model: \"sequential\"\n",
      "_________________________________________________________________\n",
      "Layer (type)                 Output Shape              Param #   \n",
      "=================================================================\n",
      "embedding (Embedding)        (None, 223, 300)          30000000  \n",
      "_________________________________________________________________\n",
      "lstm (LSTM)                  (None, 32)                42624     \n",
      "_________________________________________________________________\n",
      "dense (Dense)                (None, 10)                330       \n",
      "=================================================================\n",
      "Total params: 30,042,954\n",
      "Trainable params: 42,954\n",
      "Non-trainable params: 30,000,000\n",
      "_________________________________________________________________\n"
     ]
    }
   ],
   "source": [
    "# 我们来看一下模型的结构，一共90k左右可训练的变量\n",
    "model.summary()"
   ]
  },
  {
   "cell_type": "code",
   "execution_count": 40,
   "metadata": {},
   "outputs": [
    {
     "name": "stdout",
     "output_type": "stream",
     "text": [
      "Unable to open file (unable to open file: name = 'sentiment_checkpoint_Class10_V1.0.keras', errno = 2, error message = 'No such file or directory', flags = 0, o_flags = 0)\n"
     ]
    }
   ],
   "source": [
    "# 建立一个权重的存储点\n",
    "path_checkpoint = 'sentiment_checkpoint_Class10_V1.0.keras'\n",
    "checkpoint = ModelCheckpoint(filepath=path_checkpoint, monitor='val_loss', verbose=1, save_weights_only=True, save_best_only=True)\n",
    "\n",
    "# 尝试加载已训练模型\n",
    "try:\n",
    "    model.load_weights(path_checkpoint)\n",
    "except Exception as e:\n",
    "    print(e)"
   ]
  },
  {
   "cell_type": "code",
   "execution_count": 41,
   "metadata": {},
   "outputs": [],
   "source": [
    "# 定义early stoping如果3个epoch内validation loss没有改善则停止训练\n",
    "earlystopping = EarlyStopping(monitor='val_loss', patience=5, verbose=1)"
   ]
  },
  {
   "cell_type": "code",
   "execution_count": 42,
   "metadata": {},
   "outputs": [],
   "source": [
    "# 自动降低learning rate\n",
    "lr_reduction = ReduceLROnPlateau(monitor='val_loss', factor=0.1, min_lr=1e-8, patience=0, verbose=1)"
   ]
  },
  {
   "cell_type": "code",
   "execution_count": 43,
   "metadata": {},
   "outputs": [],
   "source": [
    "# 定义callback函数\n",
    "callbacks = [\n",
    "    earlystopping,\n",
    "    checkpoint,\n",
    "    lr_reduction\n",
    "]"
   ]
  },
  {
   "cell_type": "code",
   "execution_count": 44,
   "metadata": {},
   "outputs": [
    {
     "name": "stderr",
     "output_type": "stream",
     "text": [
      "W0708 12:20:33.130766  7060 deprecation.py:323] From C:\\SoftWare\\Anaconda3\\envs\\tensorflow\\lib\\site-packages\\tensorflow\\python\\ops\\math_grad.py:1250: add_dispatch_support.<locals>.wrapper (from tensorflow.python.ops.array_ops) is deprecated and will be removed in a future version.\n",
      "Instructions for updating:\n",
      "Use tf.where in 2.0, which has the same broadcast rule as np.where\n"
     ]
    },
    {
     "name": "stdout",
     "output_type": "stream",
     "text": [
      "Train on 6406 samples, validate on 712 samples\n",
      "Epoch 1/20\n",
      "6400/6406 [============================>.] - ETA: 0s - loss: 1.5640 - acc: 0.5094\n",
      "Epoch 00001: val_loss improved from inf to 1.25421, saving model to sentiment_checkpoint_Class10_V1.0.keras\n",
      "6406/6406 [==============================] - 17s 3ms/sample - loss: 1.5637 - acc: 0.5092 - val_loss: 1.2542 - val_acc: 0.5857\n",
      "Epoch 2/20\n",
      "6400/6406 [============================>.] - ETA: 0s - loss: 1.1014 - acc: 0.6442\n",
      "Epoch 00002: val_loss improved from 1.25421 to 0.93306, saving model to sentiment_checkpoint_Class10_V1.0.keras\n",
      "6406/6406 [==============================] - 15s 2ms/sample - loss: 1.1021 - acc: 0.6441 - val_loss: 0.9331 - val_acc: 0.6728\n",
      "Epoch 3/20\n",
      "6400/6406 [============================>.] - ETA: 0s - loss: 0.9073 - acc: 0.6945\n",
      "Epoch 00003: val_loss improved from 0.93306 to 0.81526, saving model to sentiment_checkpoint_Class10_V1.0.keras\n",
      "6406/6406 [==============================] - 15s 2ms/sample - loss: 0.9071 - acc: 0.6945 - val_loss: 0.8153 - val_acc: 0.7205\n",
      "Epoch 4/20\n",
      "6400/6406 [============================>.] - ETA: 0s - loss: 0.8304 - acc: 0.7158\n",
      "Epoch 00004: val_loss improved from 0.81526 to 0.76981, saving model to sentiment_checkpoint_Class10_V1.0.keras\n",
      "6406/6406 [==============================] - 15s 2ms/sample - loss: 0.8305 - acc: 0.7159 - val_loss: 0.7698 - val_acc: 0.7402\n",
      "Epoch 5/20\n",
      "6400/6406 [============================>.] - ETA: 0s - loss: 0.7593 - acc: 0.7355\n",
      "Epoch 00005: val_loss did not improve from 0.76981\n",
      "\n",
      "Epoch 00005: ReduceLROnPlateau reducing learning rate to 0.00010000000474974513.\n",
      "6406/6406 [==============================] - 18s 3ms/sample - loss: 0.7595 - acc: 0.7354 - val_loss: 0.8943 - val_acc: 0.6728\n",
      "Epoch 6/20\n",
      "6400/6406 [============================>.] - ETA: 0s - loss: 0.7560 - acc: 0.7330\n",
      "Epoch 00006: val_loss improved from 0.76981 to 0.72756, saving model to sentiment_checkpoint_Class10_V1.0.keras\n",
      "6406/6406 [==============================] - 16s 3ms/sample - loss: 0.7560 - acc: 0.7331 - val_loss: 0.7276 - val_acc: 0.7500\n",
      "Epoch 7/20\n",
      "6400/6406 [============================>.] - ETA: 0s - loss: 0.6981 - acc: 0.7583\n",
      "Epoch 00007: val_loss improved from 0.72756 to 0.71127, saving model to sentiment_checkpoint_Class10_V1.0.keras\n",
      "6406/6406 [==============================] - 16s 3ms/sample - loss: 0.6977 - acc: 0.7585 - val_loss: 0.7113 - val_acc: 0.7640\n",
      "Epoch 8/20\n",
      "6400/6406 [============================>.] - ETA: 0s - loss: 0.6848 - acc: 0.7625\n",
      "Epoch 00008: val_loss improved from 0.71127 to 0.70746, saving model to sentiment_checkpoint_Class10_V1.0.keras\n",
      "6406/6406 [==============================] - 29s 4ms/sample - loss: 0.6853 - acc: 0.7624 - val_loss: 0.7075 - val_acc: 0.7626\n",
      "Epoch 9/20\n",
      "6400/6406 [============================>.] - ETA: 0s - loss: 0.6792 - acc: 0.7680\n",
      "Epoch 00009: val_loss improved from 0.70746 to 0.70098, saving model to sentiment_checkpoint_Class10_V1.0.keras\n",
      "6406/6406 [==============================] - 31s 5ms/sample - loss: 0.6788 - acc: 0.7682 - val_loss: 0.7010 - val_acc: 0.7725\n",
      "Epoch 10/20\n",
      "6400/6406 [============================>.] - ETA: 0s - loss: 0.6713 - acc: 0.7691\n",
      "Epoch 00010: val_loss improved from 0.70098 to 0.69929, saving model to sentiment_checkpoint_Class10_V1.0.keras\n",
      "6406/6406 [==============================] - 30s 5ms/sample - loss: 0.6715 - acc: 0.7690 - val_loss: 0.6993 - val_acc: 0.7697\n",
      "Epoch 11/20\n",
      "6400/6406 [============================>.] - ETA: 0s - loss: 0.6661 - acc: 0.7727\n",
      "Epoch 00011: val_loss improved from 0.69929 to 0.69661, saving model to sentiment_checkpoint_Class10_V1.0.keras\n",
      "6406/6406 [==============================] - 30s 5ms/sample - loss: 0.6659 - acc: 0.7729 - val_loss: 0.6966 - val_acc: 0.7725\n",
      "Epoch 12/20\n",
      "6400/6406 [============================>.] - ETA: 0s - loss: 0.6599 - acc: 0.7745\n",
      "Epoch 00012: val_loss improved from 0.69661 to 0.69434, saving model to sentiment_checkpoint_Class10_V1.0.keras\n",
      "6406/6406 [==============================] - 30s 5ms/sample - loss: 0.6601 - acc: 0.7743 - val_loss: 0.6943 - val_acc: 0.7711\n",
      "Epoch 13/20\n",
      "6400/6406 [============================>.] - ETA: 0s - loss: 0.6541 - acc: 0.7758\n",
      "Epoch 00013: val_loss improved from 0.69434 to 0.69274, saving model to sentiment_checkpoint_Class10_V1.0.keras\n",
      "6406/6406 [==============================] - 30s 5ms/sample - loss: 0.6546 - acc: 0.7755 - val_loss: 0.6927 - val_acc: 0.7753\n",
      "Epoch 14/20\n",
      "6400/6406 [============================>.] - ETA: 0s - loss: 0.6495 - acc: 0.7803\n",
      "Epoch 00014: val_loss improved from 0.69274 to 0.68955, saving model to sentiment_checkpoint_Class10_V1.0.keras\n",
      "6406/6406 [==============================] - 31s 5ms/sample - loss: 0.6493 - acc: 0.7804 - val_loss: 0.6896 - val_acc: 0.7725\n",
      "Epoch 15/20\n",
      "6400/6406 [============================>.] - ETA: 0s - loss: 0.6433 - acc: 0.7834\n",
      "Epoch 00015: val_loss improved from 0.68955 to 0.68504, saving model to sentiment_checkpoint_Class10_V1.0.keras\n",
      "6406/6406 [==============================] - 31s 5ms/sample - loss: 0.6433 - acc: 0.7833 - val_loss: 0.6850 - val_acc: 0.7753\n",
      "Epoch 16/20\n",
      "6400/6406 [============================>.] - ETA: 0s - loss: 0.6588 - acc: 0.7753\n",
      "Epoch 00016: val_loss did not improve from 0.68504\n",
      "\n",
      "Epoch 00016: ReduceLROnPlateau reducing learning rate to 1.0000000474974514e-05.\n",
      "6406/6406 [==============================] - 31s 5ms/sample - loss: 0.6587 - acc: 0.7752 - val_loss: 0.7144 - val_acc: 0.7528\n",
      "Epoch 17/20\n",
      "6400/6406 [============================>.] - ETA: 0s - loss: 0.6660 - acc: 0.7706\n",
      "Epoch 00017: val_loss did not improve from 0.68504\n",
      "\n",
      "Epoch 00017: ReduceLROnPlateau reducing learning rate to 1.0000000656873453e-06.\n",
      "6406/6406 [==============================] - 31s 5ms/sample - loss: 0.6664 - acc: 0.7707 - val_loss: 0.7030 - val_acc: 0.7683\n",
      "Epoch 18/20\n",
      "6400/6406 [============================>.] - ETA: 0s - loss: 0.6600 - acc: 0.7728\n",
      "Epoch 00018: val_loss did not improve from 0.68504\n",
      "\n",
      "Epoch 00018: ReduceLROnPlateau reducing learning rate to 1.0000001111620805e-07.\n",
      "6406/6406 [==============================] - 31s 5ms/sample - loss: 0.6599 - acc: 0.7729 - val_loss: 0.7024 - val_acc: 0.7683\n",
      "Epoch 19/20\n",
      "6400/6406 [============================>.] - ETA: 0s - loss: 0.6597 - acc: 0.7728\n",
      "Epoch 00019: val_loss did not improve from 0.68504\n",
      "\n",
      "Epoch 00019: ReduceLROnPlateau reducing learning rate to 1.000000082740371e-08.\n",
      "6406/6406 [==============================] - 35s 5ms/sample - loss: 0.6595 - acc: 0.7729 - val_loss: 0.7024 - val_acc: 0.7683\n",
      "Epoch 20/20\n",
      "6400/6406 [============================>.] - ETA: 0s - loss: 0.6594 - acc: 0.7728\n",
      "Epoch 00020: val_loss did not improve from 0.68504\n",
      "\n",
      "Epoch 00020: ReduceLROnPlateau reducing learning rate to 1e-08.\n",
      "6406/6406 [==============================] - 21s 3ms/sample - loss: 0.6594 - acc: 0.7729 - val_loss: 0.7024 - val_acc: 0.7683\n",
      "Epoch 00020: early stopping\n"
     ]
    }
   ],
   "source": [
    "# 开始训练\n",
    "history = model.fit(X_train, y_train,\n",
    "          validation_split=0.1,\n",
    "          epochs=20,\n",
    "          batch_size=128,\n",
    "          callbacks=callbacks)"
   ]
  },
  {
   "cell_type": "code",
   "execution_count": 46,
   "metadata": {
    "collapsed": true
   },
   "outputs": [
    {
     "data": {
      "text/plain": [
       "{'loss': [1.475465745078077,\n",
       "  1.0321501104525763,\n",
       "  0.9788035252784291,\n",
       "  0.877032354776464,\n",
       "  0.8218140274221138,\n",
       "  0.7594383644324484,\n",
       "  0.7160257967633826,\n",
       "  0.6894514513618679,\n",
       "  0.6775672882934901,\n",
       "  0.6701676432802794,\n",
       "  0.660525131822935,\n",
       "  0.6540994528603115,\n",
       "  0.645686572928783,\n",
       "  0.639702994135667,\n",
       "  0.6360668492920132,\n",
       "  0.6351471176714664,\n",
       "  0.6350428458213657,\n",
       "  0.6350340524242328,\n",
       "  0.6350335110882614],\n",
       " 'acc': [0.55775833,\n",
       "  0.66359663,\n",
       "  0.67311895,\n",
       "  0.7129254,\n",
       "  0.71557915,\n",
       "  0.7343116,\n",
       "  0.74898535,\n",
       "  0.7597565,\n",
       "  0.76319075,\n",
       "  0.7642835,\n",
       "  0.77005935,\n",
       "  0.76724946,\n",
       "  0.77958167,\n",
       "  0.78067434,\n",
       "  0.7817671,\n",
       "  0.7819232,\n",
       "  0.7820793,\n",
       "  0.7820793,\n",
       "  0.7820793],\n",
       " 'val_loss': [1.0712110072039487,\n",
       "  1.0128524410590698,\n",
       "  0.8793537395723751,\n",
       "  0.8382323498136541,\n",
       "  0.783096975155091,\n",
       "  0.8094800027568688,\n",
       "  0.7189175352621614,\n",
       "  0.7082371684942352,\n",
       "  0.7057914760675323,\n",
       "  0.6998210964577921,\n",
       "  0.6958600577343715,\n",
       "  0.6927456795499566,\n",
       "  0.697834849357605,\n",
       "  0.6906361506226357,\n",
       "  0.6908078655767976,\n",
       "  0.6908492425854287,\n",
       "  0.6908408523945326,\n",
       "  0.6908407633224231,\n",
       "  0.6908412595813194],\n",
       " 'val_acc': [0.6292135,\n",
       "  0.64606744,\n",
       "  0.6994382,\n",
       "  0.6994382,\n",
       "  0.7078652,\n",
       "  0.70926964,\n",
       "  0.73876405,\n",
       "  0.7429775,\n",
       "  0.7373595,\n",
       "  0.7233146,\n",
       "  0.72893256,\n",
       "  0.7275281,\n",
       "  0.7457865,\n",
       "  0.75,\n",
       "  0.7485955,\n",
       "  0.7485955,\n",
       "  0.7485955,\n",
       "  0.7485955,\n",
       "  0.7485955],\n",
       " 'lr': [0.001,\n",
       "  0.001,\n",
       "  0.001,\n",
       "  0.001,\n",
       "  0.001,\n",
       "  0.001,\n",
       "  0.000100000005,\n",
       "  0.000100000005,\n",
       "  0.000100000005,\n",
       "  0.000100000005,\n",
       "  0.000100000005,\n",
       "  0.000100000005,\n",
       "  0.000100000005,\n",
       "  1.0000001e-05,\n",
       "  1.0000001e-05,\n",
       "  1.0000001e-06,\n",
       "  1.0000001e-07,\n",
       "  1.0000001e-08,\n",
       "  1e-08]}"
      ]
     },
     "execution_count": 46,
     "metadata": {},
     "output_type": "execute_result"
    }
   ],
   "source": [
    "history.history"
   ]
  },
  {
   "cell_type": "code",
   "execution_count": 45,
   "metadata": {},
   "outputs": [],
   "source": [
    "def show_acc(history):\n",
    "    \"\"\" 绘制精度曲线 \"\"\"\n",
    "    plt.clf()\n",
    "    history_dict = history.history\n",
    "    acc = history_dict['acc']\n",
    "    val_acc = history_dict['val_acc']\n",
    "\n",
    "    epochs = range(1, len(val_acc) + 1)\n",
    "\n",
    "    plt.plot(epochs, acc, 'bo', label='Training acc')\n",
    "    plt.plot(epochs, val_acc, 'b', label='Validation acc')\n",
    "    plt.xlabel('Epochs')\n",
    "    plt.ylabel('Acc')\n",
    "    plt.legend()\n",
    "\n",
    "    plt.show()"
   ]
  },
  {
   "cell_type": "code",
   "execution_count": 46,
   "metadata": {},
   "outputs": [
    {
     "data": {
      "image/png": "[encoded data removed]",
      "text/plain": [
       "<Figure size 432x288 with 1 Axes>"
      ]
     },
     "metadata": {
      "needs_background": "light"
     },
     "output_type": "display_data"
    }
   ],
   "source": [
    "\"\"\" show result \"\"\"\n",
    "show_acc(history)"
   ]
  },
  {
   "cell_type": "code",
   "execution_count": 47,
   "metadata": {},
   "outputs": [
    {
     "data": {
      "text/plain": [
       "(791, 10)"
      ]
     },
     "execution_count": 47,
     "metadata": {},
     "output_type": "execute_result"
    }
   ],
   "source": [
    "y_test.shape"
   ]
  },
  {
   "cell_type": "code",
   "execution_count": 48,
   "metadata": {},
   "outputs": [
    {
     "name": "stdout",
     "output_type": "stream",
     "text": [
      "791/791 [==============================] - 1s 1ms/sample - loss: 0.7750 - acc: 0.7345\n",
      "Accuracy:73.45%\n"
     ]
    }
   ],
   "source": [
    "\n",
    "#开始测试\n",
    "result = model.evaluate(X_test, y_test)\n",
    "print('Accuracy:{0:.2%}'.format(result[1]))"
   ]
  },
  {
   "cell_type": "code",
   "execution_count": 62,
   "metadata": {},
   "outputs": [],
   "source": [
    "def predict_sentiment(text):\n",
    "    print(text)\n",
    "    # 去标点\n",
    "    text = re.sub(\"[\\s+\\.\\!\\/_,$%^*(+\\\"\\']+|[+——！，。？、~@#￥%……&*（）]+\", \"\",text)\n",
    "    # 分词\n",
    "    cut = jieba.cut(text)\n",
    "    cut_list = [ i for i in cut ]\n",
    "    # tokenize\n",
    "    for i, word in enumerate(cut_list):\n",
    "        try:\n",
    "            cut_list[i] = cn_model.vocab[word].index\n",
    "            if cut_list[i] >= 50000:\n",
    "                cut_list[i] = 0\n",
    "        except KeyError:\n",
    "            cut_list[i] = 0\n",
    "    # padding\n",
    "    tokens_pad = pad_sequences([cut_list], maxlen=max_tokens, padding='pre', truncating='pre')\n",
    "    # 预测\n",
    "    result = model.predict(x=tokens_pad)\n",
    "    num = np.argmax(result)\n",
    "    if num == 0:\n",
    "        print('是一例正面评价', 'output=%.2f' % result[0][num])\n",
    "    elif num >= 1 and num <= 9:\n",
    "        print('负面评价  %d' % d, 'output=%.2f' % result[0][num])\n",
    "    else:\n",
    "        print('error!!!')"
   ]
  },
  {
   "cell_type": "code",
   "execution_count": 61,
   "metadata": {},
   "outputs": [
    {
     "name": "stdout",
     "output_type": "stream",
     "text": [
      "22222222\n"
     ]
    }
   ],
   "source": [
    "num = 2\n",
    "if num == 2:\n",
    "    print(\"22222222\")\n",
    "else:\n",
    "    print(\"55555555\")"
   ]
  },
  {
   "cell_type": "code",
   "execution_count": 63,
   "metadata": {},
   "outputs": [
    {
     "name": "stdout",
     "output_type": "stream",
     "text": [
      "酒店设施不是新的，服务态度很不好\n",
      "负面评价  2 output=0.17\n",
      "酒店卫生条件非常不好\n",
      "负面评价  6 output=0.33\n",
      "床铺非常舒适\n",
      "是一例正面评价 output=0.65\n",
      "房间很凉，不给开暖气\n",
      "负面评价  7 output=0.39\n",
      "房间很凉爽，空调冷气很足\n",
      "是一例正面评价 output=0.69\n",
      "酒店环境不好，住宿体验很不好\n",
      "负面评价  6 output=0.40\n",
      "房间隔音不到位\n",
      "负面评价  7 output=0.40\n",
      "晚上回来发现没有打扫卫生\n",
      "负面评价  7 output=0.28\n",
      "因为过节所以要我临时加钱，比团购的价格贵\n",
      "负面评价  7 output=0.38\n"
     ]
    }
   ],
   "source": [
    "test_list = [\n",
    "    '酒店设施不是新的，服务态度很不好',\n",
    "    '酒店卫生条件非常不好',\n",
    "    '床铺非常舒适',\n",
    "    '房间很凉，不给开暖气',\n",
    "    '房间很凉爽，空调冷气很足',\n",
    "    '酒店环境不好，住宿体验很不好',\n",
    "    '房间隔音不到位' ,\n",
    "    '晚上回来发现没有打扫卫生',\n",
    "    '因为过节所以要我临时加钱，比团购的价格贵'\n",
    "]\n",
    "for text in test_list:\n",
    "    predict_sentiment(text)"
   ]
  },
  {
   "cell_type": "code",
   "execution_count": 65,
   "metadata": {},
   "outputs": [
    {
     "name": "stdout",
     "output_type": "stream",
     "text": [
      "酒店太脏且设施陈旧，不符合三星标准，前台价格低于携程价格\n",
      "负面评价  7 output=0.44\n"
     ]
    }
   ],
   "source": [
    "text = \"酒店太脏且设施陈旧，不符合三星标准，前台价格低于携程价格\"\n",
    "predict_sentiment(text)"
   ]
  },
  {
   "cell_type": "code",
   "execution_count": 39,
   "metadata": {},
   "outputs": [],
   "source": [
    "y_pred = model.predict(X_test)\n",
    "# print(y_pred)\n",
    "y_pred = y_pred.T[0]\n",
    "y_pred = [1 if p >= 0.5 else 0 for p in y_pred]\n",
    "y_pred = np.array(y_pred)\n",
    "\n",
    "y_actual = np.array(y_test)"
   ]
  },
  {
   "cell_type": "code",
   "execution_count": 45,
   "metadata": {},
   "outputs": [
    {
     "data": {
      "text/plain": [
       "1"
      ]
     },
     "execution_count": 45,
     "metadata": {},
     "output_type": "execute_result"
    }
   ],
   "source": [
    "# 找出错误分类的索引\n",
    "misclassified = np.where( y_pred != y_actual )[0]\n",
    "\n",
    "# 输出所有错误分类的索引\n",
    "len(misclassified)"
   ]
  },
  {
   "cell_type": "code",
   "execution_count": 48,
   "metadata": {},
   "outputs": [
    {
     "data": {
      "text/plain": [
       "0"
      ]
     },
     "execution_count": 48,
     "metadata": {},
     "output_type": "execute_result"
    }
   ],
   "source": [
    "misclassified[0]"
   ]
  },
  {
   "cell_type": "code",
   "execution_count": 49,
   "metadata": {},
   "outputs": [
    {
     "name": "stdout",
     "output_type": "stream",
     "text": [
      "                                                                                                                                                                                                                   比较适合国内客一楼餐厅风格上有点南洋的味道\n",
      "预测的分类 1\n",
      "实际的分类 1\n"
     ]
    }
   ],
   "source": [
    "# 我们来找出错误分类的样本看看\n",
    "idx = misclassified[0]\n",
    "print(reverse_tokens(X_test[idx]))\n",
    "print('预测的分类', y_pred[idx])\n",
    "print('实际的分类', y_actual[idx])"
   ]
  },
  {
   "cell_type": "code",
   "execution_count": null,
   "metadata": {},
   "outputs": [],
   "source": [
    "idx = 1\n",
    "print(reverse_tokens(X_test[idx]))\n",
    "print('预测的分类', y_pred[idx])\n",
    "print('实际的分类', y_actual[idx])"
   ]
  },
  {
   "cell_type": "code",
   "execution_count": null,
   "metadata": {},
   "outputs": [],
   "source": []
  }
 ],
 "metadata": {
  "kernelspec": {
   "display_name": "Python 3",
   "language": "python",
   "name": "python3"
  },
  "language_info": {
   "codemirror_mode": {
    "name": "ipython",
    "version": 3
   },
   "file_extension": ".py",
   "mimetype": "text/x-python",
   "name": "python",
   "nbconvert_exporter": "python",
   "pygments_lexer": "ipython3",
   "version": "3.7.3"
  }
 },
 "nbformat": 4,
 "nbformat_minor": 2
}
